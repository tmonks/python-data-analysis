{
 "cells": [
  {
   "cell_type": "markdown",
   "id": "45719aad",
   "metadata": {},
   "source": [
    "# Data Types"
   ]
  },
  {
   "cell_type": "code",
   "execution_count": 2,
   "id": "57745289",
   "metadata": {},
   "outputs": [],
   "source": [
    "import numpy as np\n",
    "import pandas as pd"
   ]
  },
  {
   "cell_type": "markdown",
   "id": "0ef15f01",
   "metadata": {},
   "source": [
    "## Categorical\n",
    "The category data type looks and behaves like a string, but internally it's represented by an array of integers. This allows data to be sorted in a custom order and to be more efficiently stored"
   ]
  },
  {
   "cell_type": "code",
   "execution_count": 3,
   "id": "8e8ff2a0",
   "metadata": {},
   "outputs": [
    {
     "data": {
      "text/html": [
       "<div>\n",
       "<style scoped>\n",
       "    .dataframe tbody tr th:only-of-type {\n",
       "        vertical-align: middle;\n",
       "    }\n",
       "\n",
       "    .dataframe tbody tr th {\n",
       "        vertical-align: top;\n",
       "    }\n",
       "\n",
       "    .dataframe thead th {\n",
       "        text-align: right;\n",
       "    }\n",
       "</style>\n",
       "<table border=\"1\" class=\"dataframe\">\n",
       "  <thead>\n",
       "    <tr style=\"text-align: right;\">\n",
       "      <th></th>\n",
       "      <th>month</th>\n",
       "      <th>value</th>\n",
       "    </tr>\n",
       "  </thead>\n",
       "  <tbody>\n",
       "    <tr>\n",
       "      <th>0</th>\n",
       "      <td>May</td>\n",
       "      <td>37</td>\n",
       "    </tr>\n",
       "    <tr>\n",
       "      <th>1</th>\n",
       "      <td>October</td>\n",
       "      <td>15</td>\n",
       "    </tr>\n",
       "    <tr>\n",
       "      <th>2</th>\n",
       "      <td>January</td>\n",
       "      <td>37</td>\n",
       "    </tr>\n",
       "    <tr>\n",
       "      <th>3</th>\n",
       "      <td>July</td>\n",
       "      <td>92</td>\n",
       "    </tr>\n",
       "    <tr>\n",
       "      <th>4</th>\n",
       "      <td>September</td>\n",
       "      <td>49</td>\n",
       "    </tr>\n",
       "  </tbody>\n",
       "</table>\n",
       "</div>"
      ],
      "text/plain": [
       "       month  value\n",
       "0        May     37\n",
       "1    October     15\n",
       "2    January     37\n",
       "3       July     92\n",
       "4  September     49"
      ]
     },
     "execution_count": 3,
     "metadata": {},
     "output_type": "execute_result"
    }
   ],
   "source": [
    "df = pd.DataFrame({\n",
    "    'month': ['May', 'October', 'January', 'July', 'September'],\n",
    "    'value': np.random.randint(0, 100, size=5)\n",
    "})\n",
    "df"
   ]
  },
  {
   "cell_type": "markdown",
   "id": "69e8984f",
   "metadata": {},
   "source": [
    "Convert a column to a Categorical with a specific order"
   ]
  },
  {
   "cell_type": "code",
   "execution_count": 4,
   "id": "7d0c6deb",
   "metadata": {},
   "outputs": [],
   "source": [
    "months = ['January', 'February', 'March', 'April', 'May', 'June', 'July', 'August', 'September', 'October', 'November', 'December']"
   ]
  },
  {
   "cell_type": "code",
   "execution_count": 5,
   "id": "b090ac17",
   "metadata": {},
   "outputs": [],
   "source": [
    "df['month'] = pd.Categorical(df['month'], categories=months, ordered=True)"
   ]
  },
  {
   "cell_type": "code",
   "execution_count": 6,
   "id": "e108a4fb",
   "metadata": {},
   "outputs": [
    {
     "data": {
      "text/plain": [
       "CategoricalDtype(categories=['January', 'February', 'March', 'April', 'May', 'June',\n",
       "                  'July', 'August', 'September', 'October', 'November',\n",
       "                  'December'],\n",
       ", ordered=True)"
      ]
     },
     "execution_count": 6,
     "metadata": {},
     "output_type": "execute_result"
    }
   ],
   "source": [
    "df['month'].dtype"
   ]
  },
  {
   "cell_type": "markdown",
   "id": "122758e4",
   "metadata": {},
   "source": [
    "Convert category to string and concatenate it.."
   ]
  },
  {
   "cell_type": "code",
   "execution_count": 8,
   "id": "9442fe1a",
   "metadata": {},
   "outputs": [
    {
     "data": {
      "text/plain": [
       "0          0-May\n",
       "1      1-October\n",
       "2      2-January\n",
       "3         3-July\n",
       "4    4-September\n",
       "dtype: object"
      ]
     },
     "execution_count": 8,
     "metadata": {},
     "output_type": "execute_result"
    }
   ],
   "source": [
    "df.index.astype(str) + '-' + df['month'].astype(str)"
   ]
  }
 ],
 "metadata": {
  "kernelspec": {
   "display_name": "data-analysis",
   "language": "python",
   "name": "data-analysis"
  },
  "language_info": {
   "codemirror_mode": {
    "name": "ipython",
    "version": 3
   },
   "file_extension": ".py",
   "mimetype": "text/x-python",
   "name": "python",
   "nbconvert_exporter": "python",
   "pygments_lexer": "ipython3",
   "version": "3.10.4"
  }
 },
 "nbformat": 4,
 "nbformat_minor": 5
}
