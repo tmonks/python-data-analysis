{
 "cells": [
  {
   "cell_type": "code",
   "execution_count": 1,
   "id": "6fc28054",
   "metadata": {},
   "outputs": [],
   "source": [
    "import pandas as pd\n",
    "import datetime"
   ]
  },
  {
   "cell_type": "markdown",
   "id": "db5c4b9f",
   "metadata": {},
   "source": [
    "## Filtering on dates"
   ]
  },
  {
   "cell_type": "markdown",
   "id": "5740137e",
   "metadata": {},
   "source": [
    "Filter a dataframe to the last 90 days...\n",
    "\n",
    "```python\n",
    "last_90_days = df['date'] > (datetime.datetime.now() - pd.to_timedelta('90day'))\n",
    "df[last_90_days]\n",
    "```"
   ]
  },
  {
   "cell_type": "markdown",
   "id": "4c8f9cf1",
   "metadata": {},
   "source": [
    "## Filtering for values in a list"
   ]
  },
  {
   "cell_type": "markdown",
   "id": "49d07dc1",
   "metadata": {},
   "source": [
    "Filter rows based on one column being in a list of filter values...\n",
    "\n",
    "```python\n",
    "pickup_or_delivery = df['final_method'].isin(['pickup', 'delivery'])\n",
    "df[pickup_or_delivery]\n",
    "```"
   ]
  }
 ],
 "metadata": {
  "kernelspec": {
   "display_name": "data-analysis",
   "language": "python",
   "name": "data-analysis"
  },
  "language_info": {
   "codemirror_mode": {
    "name": "ipython",
    "version": 3
   },
   "file_extension": ".py",
   "mimetype": "text/x-python",
   "name": "python",
   "nbconvert_exporter": "python",
   "pygments_lexer": "ipython3",
   "version": "3.10.6"
  }
 },
 "nbformat": 4,
 "nbformat_minor": 5
}
